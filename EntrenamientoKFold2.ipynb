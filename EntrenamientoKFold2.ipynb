{
 "cells": [
  {
   "cell_type": "code",
   "execution_count": 1,
   "metadata": {},
   "outputs": [],
   "source": [
    "import numpy as np\n",
    "import os\n",
    "import PIL\n",
    "import PIL.Image\n",
    "import tensorflow as tf\n",
    "import tensorflow_datasets as tfds\n",
    "import cv2\n",
    "from sklearn.metrics import confusion_matrix\n",
    "\n",
    "from sklearn.utils import shuffle  \n",
    "from sklearn.model_selection import train_test_split\n",
    "\n",
    "from tensorflow.python import keras\n",
    "\n",
    "from tensorflow.keras import datasets, layers, models\n",
    "\n",
    "import matplotlib.pyplot as plt\n",
    "\n",
    "from keras.models import Sequential\n",
    "import copy\n",
    "#tf.compat.v1.disable_eager_execution()\n",
    "tf.executing_eagerly()\n",
    "num_images=400"
   ]
  },
  {
   "cell_type": "code",
   "execution_count": 2,
   "metadata": {},
   "outputs": [
    {
     "name": "stdout",
     "output_type": "stream",
     "text": [
      "2.6.1\n"
     ]
    }
   ],
   "source": [
    "print(tf.__version__)"
   ]
  },
  {
   "cell_type": "markdown",
   "metadata": {},
   "source": [
    "Modelo de la CNN"
   ]
  },
  {
   "cell_type": "code",
   "execution_count": 3,
   "metadata": {},
   "outputs": [],
   "source": [
    "# data_dir=\n",
    "# batch_size = 32\n",
    "# img_height = 180\n",
    "# img_width = 180\n",
    "\n",
    "# train_ds = tf.keras.utils.image_dataset_from_directory(\n",
    "#   data_dir,\n",
    "#   validation_split=0.2,\n",
    "#   subset=\"training\",\n",
    "#   seed=123,\n",
    "#   image_size=(img_height, img_width),\n",
    "#   batch_size=batch_size)"
   ]
  },
  {
   "cell_type": "code",
   "execution_count": 4,
   "metadata": {},
   "outputs": [],
   "source": [
    "def returnPath(ch):\n",
    "    path=\"/mit-imagenes/Tecnica2/\"\n",
    "    agregar=\"\"\n",
    "    if ch == 'V':\n",
    "        agregar=\"PVC\"\n",
    "    elif ch == '/':\n",
    "        agregar=\"PAB\"\n",
    "    elif ch == 'R':\n",
    "        agregar=\"RBB\"\n",
    "    elif ch == 'L':\n",
    "        agregar=\"LBB\"\n",
    "    elif ch == 'A':\n",
    "        agregar=\"APC\"\n",
    "    elif ch == '!':\n",
    "        agregar=\"VFW\"\n",
    "    elif ch == 'E':\n",
    "        agregar=\"VEB\"\n",
    "    elif ch == 'N':\n",
    "        agregar=\"N\"\n",
    "    path=path+agregar+'/'\n",
    "    \"\"\"se retornaría el path=\"/mit-imagenes/Tecnica2/PVC/\" \"\"\"\n",
    "    return path"
   ]
  },
  {
   "cell_type": "code",
   "execution_count": 5,
   "metadata": {},
   "outputs": [
    {
     "name": "stdout",
     "output_type": "stream",
     "text": [
      "./mit-bih/mit-imagenes/Tecnica2/PVC/cropping/\n",
      "./mit-bih/mit-imagenes/Tecnica2/PAB/cropping/\n",
      "./mit-bih/mit-imagenes/Tecnica2/RBB/cropping/\n",
      "./mit-bih/mit-imagenes/Tecnica2/LBB/cropping/\n",
      "./mit-bih/mit-imagenes/Tecnica2/APC/cropping/\n",
      "./mit-bih/mit-imagenes/Tecnica2/VFW/cropping/\n",
      "./mit-bih/mit-imagenes/Tecnica2/VEB/cropping/\n",
      "./mit-bih/mit-imagenes/Tecnica2/N/\n",
      "(3100, 256, 256, 3)\n",
      "(3100,)\n",
      "images done\n",
      "labels [0 0 0 ... 7 7 7]\n"
     ]
    }
   ],
   "source": [
    "\n",
    "def images_label(path_,tipo_):\n",
    "    images_ = []\n",
    "    labels_ = []\n",
    "    \n",
    "    path_='./mit-bih'+path_\n",
    "    final_path_=\"\"\n",
    "    if tipo_=='N':\n",
    "        final_path_=path_\n",
    "    else:\n",
    "        final_path_=path_+'cropping/'     #si no es N no tiene imagenes en cropping\n",
    "\n",
    "    print(final_path_)\n",
    "    count=0\n",
    "    for filename in os.listdir(final_path_):\n",
    "        #print(os.path.join(path_,filename))\n",
    "        #print(\"The filename is\",filename)\n",
    "        img = cv2.imread(os.path.join(final_path_,filename))\n",
    "        if img is not None:\n",
    "            #print(\"is image\")\n",
    "            images_.append(img)\n",
    "            labels_.append(tipo_)\n",
    "            #output_.append((images_, labels_))\n",
    "            count+=1\n",
    "            #Only taking 900 images if it is N without cropping\n",
    "            # if tipo_=='N' and count%900==0:\n",
    "            #     break\n",
    "        #Only taking 700 images if it is N without cropping\n",
    "        if count%num_images==0:\n",
    "            break    \n",
    "    return images_, labels_\n",
    "\n",
    "dicTipos =\t{\n",
    "  'V':0\n",
    "  ,'/':1\n",
    "  ,'R':2\n",
    "  ,'L':3\n",
    "  ,'A':4\n",
    "  ,'!':5\n",
    "  ,'E':6\n",
    "  ,'N':7\n",
    "}\n",
    "tipos=['V','/','R','L','A','!','E','N']\n",
    "images=[]\n",
    "labels=[]\n",
    "output=[]\n",
    "for i in tipos:\n",
    "    tipoPath=returnPath(i)\n",
    "    newImages,newLabels=images_label(tipoPath,i)\n",
    "    images=images+newImages\n",
    "    labels=labels+newLabels\n",
    "    output.append((newImages,newLabels))\n",
    "print(np.shape(images))\n",
    "print(np.shape(labels))\n",
    "\n",
    "\n",
    "# (train_images, train_labels), (test_images, test_labels) = output\n",
    "# train_images, train_labels = shuffle(train_images, train_labels, random_state=25)\n",
    "images=np.array(images)\n",
    "labels=np.array(labels)\n",
    "\n",
    "idLabels=[]\n",
    "for i in labels:\n",
    "    idLabels.append(dicTipos[i])\n",
    "labels=np.array(idLabels)\n",
    "\n",
    "images = np.array(images, dtype = 'float32')\n",
    "print(\"images done\")\n",
    "print(\"labels\", labels)\n",
    "labels = np.array(labels, dtype = 'int32')\n",
    "\n",
    "\n",
    "x_train=copy.deepcopy(images)\n",
    "y_train=copy.deepcopy(labels)\n",
    "\n",
    "\n",
    "\n",
    "\n",
    "# x_train=tf.convert_to_tensor(x_train, dtype=tf.float32)\n",
    "# y_train=tf.convert_to_tensor(y_train, dtype=tf.int32)\n",
    "\n",
    "#x_train, x_test, y_train, y_test = train_test_split(images, labels, test_size=0.33, random_state=4)\n",
    "\n",
    "# print(np.shape(x_train))\n",
    "# print(np.shape(y_train))"
   ]
  },
  {
   "cell_type": "markdown",
   "metadata": {},
   "source": [
    "Modelo de la CNN"
   ]
  },
  {
   "cell_type": "code",
   "execution_count": 6,
   "metadata": {},
   "outputs": [
    {
     "name": "stdout",
     "output_type": "stream",
     "text": [
      "Shape of TRAINING DATASET:---------------------- (2480,)\n",
      "Shape of TRAINING DATASET:---------------------- (620,)\n",
      "------------------------------------------------------------------------\n",
      "Training for fold 1 ...\n",
      "Epoch 1/5\n",
      "97/97 [==============================] - 534s 5s/step - loss: 0.8459 - accuracy: 0.8032\n",
      "Epoch 2/5\n",
      "97/97 [==============================] - 529s 5s/step - loss: 0.2738 - accuracy: 0.9148\n",
      "Epoch 3/5\n",
      "97/97 [==============================] - 503s 5s/step - loss: 0.1467 - accuracy: 0.9516\n",
      "Epoch 4/5\n",
      "97/97 [==============================] - 500s 5s/step - loss: 0.1052 - accuracy: 0.9623\n",
      "Epoch 5/5\n",
      "97/97 [==============================] - 500s 5s/step - loss: 0.0779 - accuracy: 0.9742\n",
      "Score for fold 1: loss of 3.0294735431671143; accuracy of 89.838707447052%\n",
      "Shape of TRAINING DATASET:---------------------- (2480,)\n",
      "Shape of TRAINING DATASET:---------------------- (620,)\n",
      "------------------------------------------------------------------------\n",
      "Training for fold 2 ...\n",
      "Epoch 1/5\n",
      "97/97 [==============================] - 502s 5s/step - loss: 0.7987 - accuracy: 0.8029\n",
      "Epoch 2/5\n",
      "97/97 [==============================] - 499s 5s/step - loss: 0.2329 - accuracy: 0.9303\n",
      "Epoch 3/5\n",
      "97/97 [==============================] - 497s 5s/step - loss: 0.2176 - accuracy: 0.9410\n",
      "Epoch 4/5\n",
      "97/97 [==============================] - 498s 5s/step - loss: 0.1403 - accuracy: 0.9539\n",
      "Epoch 5/5\n",
      "97/97 [==============================] - 499s 5s/step - loss: 0.0916 - accuracy: 0.9694\n",
      "Score for fold 2: loss of 8.063530921936035; accuracy of 87.5806450843811%\n",
      "Shape of TRAINING DATASET:---------------------- (2480,)\n",
      "Shape of TRAINING DATASET:---------------------- (620,)\n",
      "------------------------------------------------------------------------\n",
      "Training for fold 3 ...\n",
      "Epoch 1/5\n",
      "97/97 [==============================] - 514s 5s/step - loss: 0.8539 - accuracy: 0.8090\n",
      "Epoch 2/5\n",
      "97/97 [==============================] - 502s 5s/step - loss: 0.2286 - accuracy: 0.9274\n",
      "Epoch 3/5\n",
      "97/97 [==============================] - 498s 5s/step - loss: 0.1642 - accuracy: 0.9532\n",
      "Epoch 4/5\n",
      "97/97 [==============================] - 498s 5s/step - loss: 0.1182 - accuracy: 0.9619\n",
      "Epoch 5/5\n",
      "97/97 [==============================] - 498s 5s/step - loss: 0.0819 - accuracy: 0.9716\n",
      "Score for fold 3: loss of 39.76396560668945; accuracy of 44.51612830162048%\n",
      "Shape of TRAINING DATASET:---------------------- (2480,)\n",
      "Shape of TRAINING DATASET:---------------------- (620,)\n",
      "------------------------------------------------------------------------\n",
      "Training for fold 4 ...\n",
      "Epoch 1/5\n",
      "97/97 [==============================] - 504s 5s/step - loss: 1.0016 - accuracy: 0.7939\n",
      "Epoch 2/5\n",
      "97/97 [==============================] - 507s 5s/step - loss: 0.2384 - accuracy: 0.9284\n",
      "Epoch 3/5\n",
      "97/97 [==============================] - 504s 5s/step - loss: 0.1830 - accuracy: 0.9435\n",
      "Epoch 4/5\n",
      "97/97 [==============================] - 505s 5s/step - loss: 0.1144 - accuracy: 0.9632\n",
      "Epoch 5/5\n",
      "97/97 [==============================] - 510s 5s/step - loss: 0.1085 - accuracy: 0.9687\n",
      "Score for fold 4: loss of 0.9820390343666077; accuracy of 90.16128778457642%\n",
      "Shape of TRAINING DATASET:---------------------- (2480,)\n",
      "Shape of TRAINING DATASET:---------------------- (620,)\n",
      "------------------------------------------------------------------------\n",
      "Training for fold 5 ...\n",
      "Epoch 1/5\n",
      "97/97 [==============================] - 523s 5s/step - loss: 0.8766 - accuracy: 0.8081\n",
      "Epoch 2/5\n",
      "97/97 [==============================] - 511s 5s/step - loss: 0.2799 - accuracy: 0.9158\n",
      "Epoch 3/5\n",
      "97/97 [==============================] - 561s 6s/step - loss: 0.1384 - accuracy: 0.9516\n",
      "Epoch 4/5\n",
      "97/97 [==============================] - 680s 7s/step - loss: 0.1027 - accuracy: 0.9661\n",
      "Epoch 5/5\n",
      "97/97 [==============================] - 687s 7s/step - loss: 0.0939 - accuracy: 0.9671\n",
      "Score for fold 5: loss of 17.918838500976562; accuracy of 69.67741847038269%\n",
      "03:39:50.18\n"
     ]
    }
   ],
   "source": [
    "from tensorflow.keras.losses import sparse_categorical_crossentropy\n",
    "from tensorflow.keras.optimizers import Adam\n",
    "from sklearn.model_selection import KFold\n",
    "import time\n",
    "start = time.time()\n",
    "\n",
    "\n",
    "acc_per_fold=[]\n",
    "loss_per_fold=[]\n",
    "# Define the K-fold Cross Validator\n",
    "nro_folds=5\n",
    "kfold = KFold(n_splits=nro_folds, shuffle=True)\n",
    "# K-fold Cross Validation model evaluation\n",
    "fold_no = 1\n",
    "\n",
    "@tf.function(experimental_relax_shapes=True)\n",
    "def fit(x):\n",
    "    return model.fit(x)\n",
    "    \n",
    "\n",
    "for train, test in kfold.split(x_train, y_train):\n",
    "    print(\"Shape of TRAINING DATASET:----------------------\",train.shape)\n",
    "    print(\"Shape of TRAINING DATASET:----------------------\",test.shape)\n",
    "    \n",
    "\n",
    "\n",
    "    model = Sequential()\n",
    "    IMAGE_SIZE=(256,256)\n",
    "    model.add(layers.Conv2D(64, (3,3),strides = (1,1), input_shape = (256,256,3),kernel_initializer='glorot_uniform'))\n",
    "    model.add(keras.layers.ELU())\n",
    "    model.add(layers.BatchNormalization(momentum=0.01))\n",
    "    model.add(layers.MaxPool2D(pool_size=(2, 2), strides= (2,2)))\n",
    "\n",
    "    model.add(layers.Conv2D(128, (3,3),strides = (1,1),kernel_initializer='glorot_uniform'))\n",
    "    model.add(keras.layers.ELU())\n",
    "    model.add(layers.BatchNormalization(momentum=0.01))\n",
    "    model.add(layers.MaxPool2D(pool_size=(2, 2), strides= (2,2)))\n",
    "\n",
    "    model.add(layers.Conv2D(256, (3,3),strides = (1,1),kernel_initializer='glorot_uniform'))\n",
    "    model.add(keras.layers.ELU())\n",
    "    model.add(layers.BatchNormalization(momentum=0.01))\n",
    "    model.add(layers.MaxPool2D(pool_size=(2, 2), strides= (2,2)))\n",
    "\n",
    "    model.add(layers.Conv2D(512, (3,3),strides = (1,1),kernel_initializer='glorot_uniform'))\n",
    "    model.add(keras.layers.ELU())\n",
    "    model.add(layers.BatchNormalization(momentum=0.01))\n",
    "    model.add(layers.MaxPool2D(pool_size=(2, 2), strides= (2,2)))\n",
    "\n",
    "\n",
    "    model.add(layers.Flatten())\n",
    "    model.add(layers.Dense(2048))\n",
    "    model.add(keras.layers.ELU())\n",
    "    model.add(layers.BatchNormalization(momentum=0.01))\n",
    "    model.add(layers.Dropout(0.5))\n",
    "    model.add(layers.Dense(8, activation='softmax'))\n",
    "\n",
    "\n",
    "    # Compile the model\n",
    "    model.compile(optimizer='adam',\n",
    "              loss=tf.keras.losses.SparseCategoricalCrossentropy(from_logits=False),\n",
    "              metrics=['accuracy'])\n",
    "\n",
    "\n",
    "    # Generate a print\n",
    "    print('------------------------------------------------------------------------')\n",
    "    print(f'Training for fold {fold_no} ...')\n",
    "\n",
    "    # Fit data to model\n",
    "    #history = model.fit(x_train, y_train, epochs=10,validation_data=(x_test, y_test))\n",
    "    #print(train)\n",
    "\n",
    "    #changes everytime the value of train and test\n",
    "    #x_train_tensor=tf.convert_to_tensor(x_train[train], dtype=tf.float32)\n",
    "    #y_train_tensor=tf.convert_to_tensor(y_train[train], dtype=tf.int32)\n",
    "\n",
    "    history = model.fit(x_train, y_train,\n",
    "                batch_size=32,\n",
    "                epochs=5)\n",
    "\n",
    "    # Generate generalization metrics\n",
    "    scores = model.evaluate(x_train[test], y_train[test], verbose=0)\n",
    "    print(f'Score for fold {fold_no}: {model.metrics_names[0]} of {scores[0]}; {model.metrics_names[1]} of {scores[1]*100}%')\n",
    "    acc_per_fold.append(scores[1] * 100)\n",
    "    loss_per_fold.append(scores[0])\n",
    "\n",
    "    # Increase fold number\n",
    "    fold_no = fold_no + 1\n",
    "\n",
    "end = time.time()\n",
    "hours, rem = divmod(end-start, 3600)\n",
    "minutes, seconds = divmod(rem, 60)\n",
    "print(\"{:0>2}:{:0>2}:{:05.2f}\".format(int(hours),int(minutes),seconds))\n"
   ]
  },
  {
   "cell_type": "code",
   "execution_count": 12,
   "metadata": {},
   "outputs": [
    {
     "name": "stdout",
     "output_type": "stream",
     "text": [
      "Accuracy KFold :   76.35483741760254  % \n"
     ]
    }
   ],
   "source": [
    "average_kfold=sum(acc_per_fold) / len(acc_per_fold)\n",
    "print(\"Accuracy KFold :  \", average_kfold, \" % \")"
   ]
  },
  {
   "cell_type": "code",
   "execution_count": 7,
   "metadata": {},
   "outputs": [],
   "source": [
    "\n",
    "predicted=model.predict(x_train)\n",
    "rounded_predictions=np.argmax(predicted,axis=1)\n",
    "\n"
   ]
  },
  {
   "cell_type": "code",
   "execution_count": 8,
   "metadata": {},
   "outputs": [
    {
     "data": {
      "text/plain": [
       "<Figure size 432x288 with 0 Axes>"
      ]
     },
     "metadata": {},
     "output_type": "display_data"
    },
    {
     "data": {
      "image/png": "[encoded data removed]",
      "text/plain": [
       "<Figure size 432x288 with 2 Axes>"
      ]
     },
     "metadata": {
      "needs_background": "light"
     },
     "output_type": "display_data"
    },
    {
     "name": "stdout",
     "output_type": "stream",
     "text": [
      "Accuracy:   0.7138709677419355\n"
     ]
    }
   ],
   "source": [
    "# #Dibujar la matriz de confusion\n",
    "%matplotlib inline\n",
    "from sklearn.metrics import confusion_matrix\n",
    "from sklearn.metrics import ConfusionMatrixDisplay\n",
    "import itertools\n",
    "import matplotlib.pyplot as plt\n",
    "\n",
    "fig = plt.figure(frameon=False)\n",
    "cm=confusion_matrix(y_train,rounded_predictions)\n",
    "ClasesArritmias=[\"PVC\",\"PAB\",\"RBB\",\"LBB\",\"APC\",\"VFW\",\"VEB\",\"N\"]\n",
    "#Displaying Confusion Matrix\n",
    "disp = ConfusionMatrixDisplay(confusion_matrix=cm, display_labels=ClasesArritmias)\n",
    "disp.plot(cmap=plt.cm.Blues)\n",
    "fig=disp.figure_\n",
    "fig.savefig(\"ConfMatrixFourier3200.png\")\n",
    "#disp.im_.imsave(\"geeks.jpg\")\n",
    "#disp.im_.savefig(\"geeks.jpg\")\n",
    "#plt.imsave(\"ConfMatrix.png\",disp.im_)\n",
    "plt.savefig(\"imagen.png\")\n",
    "plt.show()\n",
    "\n",
    "temp = sum(y_train == rounded_predictions)\n",
    "temp=temp/len(y_train)\n",
    "print(\"Accuracy:  \", temp)"
   ]
  },
  {
   "cell_type": "markdown",
   "metadata": {},
   "source": [
    "Entrenar el modelo"
   ]
  },
  {
   "cell_type": "markdown",
   "metadata": {},
   "source": [
    "Evaluar el modelo"
   ]
  }
 ],
 "metadata": {
  "interpreter": {
   "hash": "37e944cef0ed0bfb77ad27bb219c82d0248dc7f6ab5214dfd7baba058d4590d5"
  },
  "kernelspec": {
   "display_name": "Python 3.9.8 64-bit",
   "language": "python",
   "name": "python3"
  },
  "language_info": {
   "codemirror_mode": {
    "name": "ipython",
    "version": 3
   },
   "file_extension": ".py",
   "mimetype": "text/x-python",
   "name": "python",
   "nbconvert_exporter": "python",
   "pygments_lexer": "ipython3",
   "version": "3.9.8"
  },
  "orig_nbformat": 4
 },
 "nbformat": 4,
 "nbformat_minor": 2
}
