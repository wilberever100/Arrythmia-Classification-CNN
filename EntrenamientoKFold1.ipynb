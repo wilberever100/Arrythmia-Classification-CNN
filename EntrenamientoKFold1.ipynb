{
 "cells": [
  {
   "cell_type": "code",
   "execution_count": 1,
   "metadata": {},
   "outputs": [],
   "source": [
    "import numpy as np\n",
    "import os\n",
    "import PIL\n",
    "import PIL.Image\n",
    "import tensorflow as tf\n",
    "import tensorflow_datasets as tfds\n",
    "import cv2\n",
    "from sklearn.metrics import confusion_matrix\n",
    "\n",
    "from sklearn.utils import shuffle  \n",
    "from sklearn.model_selection import train_test_split\n",
    "\n",
    "from tensorflow.python import keras\n",
    "\n",
    "from tensorflow.keras import datasets, layers, models\n",
    "\n",
    "import matplotlib.pyplot as plt\n",
    "\n",
    "from keras.models import Sequential\n",
    "import copy\n",
    "\n",
    "num_images=400"
   ]
  },
  {
   "cell_type": "code",
   "execution_count": 2,
   "metadata": {},
   "outputs": [
    {
     "name": "stdout",
     "output_type": "stream",
     "text": [
      "2.6.1\n"
     ]
    }
   ],
   "source": [
    "print(tf.__version__)"
   ]
  },
  {
   "cell_type": "markdown",
   "metadata": {},
   "source": [
    "Modelo de la CNN"
   ]
  },
  {
   "cell_type": "code",
   "execution_count": 3,
   "metadata": {},
   "outputs": [],
   "source": [
    "# data_dir=\n",
    "# batch_size = 32\n",
    "# img_height = 180\n",
    "# img_width = 180\n",
    "\n",
    "# train_ds = tf.keras.utils.image_dataset_from_directory(\n",
    "#   data_dir,\n",
    "#   validation_split=0.2,\n",
    "#   subset=\"training\",\n",
    "#   seed=123,\n",
    "#   image_size=(img_height, img_width),\n",
    "#   batch_size=batch_size)"
   ]
  },
  {
   "cell_type": "code",
   "execution_count": 4,
   "metadata": {},
   "outputs": [],
   "source": [
    "def returnPath(ch):\n",
    "    path=\"/mit-imagenes/\"\n",
    "    agregar=\"\"\n",
    "    if ch == 'V':\n",
    "        agregar=\"PVC\"\n",
    "    elif ch == '/':\n",
    "        agregar=\"PAB\"\n",
    "    elif ch == 'R':\n",
    "        agregar=\"RBB\"\n",
    "    elif ch == 'L':\n",
    "        agregar=\"LBB\"\n",
    "    elif ch == 'A':\n",
    "        agregar=\"APC\"\n",
    "    elif ch == '!':\n",
    "        agregar=\"VFW\"\n",
    "    elif ch == 'E':\n",
    "        agregar=\"VEB\"\n",
    "    elif ch == 'N':\n",
    "        agregar=\"N\"\n",
    "    path=path+agregar+'/'              \n",
    "    \"\"\"se retornaría el path=\"/mit-imagenes/PVC/\" \"\"\"\n",
    "    return path"
   ]
  },
  {
   "cell_type": "code",
   "execution_count": 5,
   "metadata": {},
   "outputs": [
    {
     "name": "stdout",
     "output_type": "stream",
     "text": [
      "./mit-bih/mit-imagenes/PVC/cropping/\n",
      "./mit-bih/mit-imagenes/PAB/cropping/\n",
      "./mit-bih/mit-imagenes/RBB/cropping/\n",
      "./mit-bih/mit-imagenes/LBB/cropping/\n",
      "./mit-bih/mit-imagenes/APC/cropping/\n",
      "./mit-bih/mit-imagenes/VFW/cropping/\n",
      "./mit-bih/mit-imagenes/VEB/cropping/\n",
      "./mit-bih/mit-imagenes/N/\n",
      "(3200, 128, 128, 3)\n",
      "(3200,)\n",
      "images done\n",
      "labels [0 0 0 ... 7 7 7]\n"
     ]
    }
   ],
   "source": [
    "\n",
    "def images_label(path_,tipo_):\n",
    "    images_ = []\n",
    "    labels_ = []\n",
    "    \n",
    "    path_='./mit-bih'+path_\n",
    "    final_path_=\"\"\n",
    "    if tipo_=='N':\n",
    "        final_path_=path_\n",
    "    else:\n",
    "        final_path_=path_+'cropping/'     #si no es N no tiene imagenes en cropping\n",
    "\n",
    "    print(final_path_)\n",
    "    count=0\n",
    "    for filename in os.listdir(final_path_):\n",
    "        #print(os.path.join(path_,filename))\n",
    "        #print(\"The filename is\",filename)\n",
    "        img = cv2.imread(os.path.join(final_path_,filename))\n",
    "        if img is not None:\n",
    "            #print(\"is image\")\n",
    "            images_.append(img)\n",
    "            labels_.append(tipo_)\n",
    "            #output_.append((images_, labels_))\n",
    "            count+=1\n",
    "            #Only taking 900 images if it is N without cropping\n",
    "            # if tipo_=='N' and count%900==0:\n",
    "            #     break\n",
    "        #Only taking 700 images if it is N without cropping\n",
    "        if count%num_images==0:\n",
    "            break    \n",
    "    return images_, labels_\n",
    "\n",
    "dicTipos =\t{\n",
    "  'V':0\n",
    "  ,'/':1\n",
    "  ,'R':2\n",
    "  ,'L':3\n",
    "  ,'A':4\n",
    "  ,'!':5\n",
    "  ,'E':6\n",
    "  ,'N':7\n",
    "}\n",
    "tipos=['V','/','R','L','A','!','E','N']\n",
    "images=[]\n",
    "labels=[]\n",
    "output=[]\n",
    "for i in tipos:\n",
    "    tipoPath=returnPath(i)\n",
    "    newImages,newLabels=images_label(tipoPath,i)\n",
    "    images=images+newImages\n",
    "    labels=labels+newLabels\n",
    "    output.append((newImages,newLabels))\n",
    "print(np.shape(images))\n",
    "print(np.shape(labels))\n",
    "\n",
    "\n",
    "# (train_images, train_labels), (test_images, test_labels) = output\n",
    "# train_images, train_labels = shuffle(train_images, train_labels, random_state=25)\n",
    "images=np.array(images)\n",
    "labels=np.array(labels)\n",
    "\n",
    "idLabels=[]\n",
    "for i in labels:\n",
    "    idLabels.append(dicTipos[i])\n",
    "labels=np.array(idLabels)\n",
    "\n",
    "images = np.array(images, dtype = 'float32')\n",
    "print(\"images done\")\n",
    "print(\"labels\", labels)\n",
    "labels = np.array(labels, dtype = 'int32')\n",
    "\n",
    "\n",
    "x_train=copy.deepcopy(images)\n",
    "y_train=copy.deepcopy(labels)\n",
    "\n",
    "#x_train, x_test, y_train, y_test = train_test_split(images, labels, test_size=0.33, random_state=4)\n",
    "\n",
    "# print(np.shape(x_train))\n",
    "# print(np.shape(y_train))"
   ]
  },
  {
   "cell_type": "markdown",
   "metadata": {},
   "source": [
    "Modelo de la CNN"
   ]
  },
  {
   "cell_type": "code",
   "execution_count": 6,
   "metadata": {},
   "outputs": [
    {
     "name": "stdout",
     "output_type": "stream",
     "text": [
      "------------------------------------------------------------------------\n",
      "Training for fold 1 ...\n",
      "Epoch 1/5\n",
      "80/80 [==============================] - 231s 3s/step - loss: 1.0405 - accuracy: 0.8281\n",
      "Epoch 2/5\n",
      "80/80 [==============================] - 232s 3s/step - loss: 0.1018 - accuracy: 0.9727\n",
      "Epoch 3/5\n",
      "80/80 [==============================] - 232s 3s/step - loss: 0.0370 - accuracy: 0.9871\n",
      "Epoch 4/5\n",
      "80/80 [==============================] - 232s 3s/step - loss: 0.0390 - accuracy: 0.9891\n",
      "Epoch 5/5\n",
      "80/80 [==============================] - 230s 3s/step - loss: 0.0160 - accuracy: 0.9957\n",
      "Score for fold 1: loss of 0.35317927598953247; accuracy of 95.6250011920929%\n",
      "------------------------------------------------------------------------\n",
      "Training for fold 2 ...\n",
      "Epoch 1/5\n",
      "80/80 [==============================] - 232s 3s/step - loss: 0.8765 - accuracy: 0.8398\n",
      "Epoch 2/5\n",
      "80/80 [==============================] - 234s 3s/step - loss: 0.0591 - accuracy: 0.9820\n",
      "Epoch 3/5\n",
      "80/80 [==============================] - 234s 3s/step - loss: 0.0252 - accuracy: 0.9922\n",
      "Epoch 4/5\n",
      "80/80 [==============================] - 235s 3s/step - loss: 0.0100 - accuracy: 0.9977\n",
      "Epoch 5/5\n",
      "80/80 [==============================] - 235s 3s/step - loss: 0.0134 - accuracy: 0.9957\n",
      "Score for fold 2: loss of 0.3408188223838806; accuracy of 94.68749761581421%\n",
      "------------------------------------------------------------------------\n",
      "Training for fold 3 ...\n",
      "Epoch 1/5\n",
      "80/80 [==============================] - 235s 3s/step - loss: 0.9498 - accuracy: 0.8438\n",
      "Epoch 2/5\n",
      "80/80 [==============================] - 233s 3s/step - loss: 0.0818 - accuracy: 0.9746\n",
      "Epoch 3/5\n",
      "80/80 [==============================] - 233s 3s/step - loss: 0.0266 - accuracy: 0.9922\n",
      "Epoch 4/5\n",
      "80/80 [==============================] - 234s 3s/step - loss: 0.0179 - accuracy: 0.9949\n",
      "Epoch 5/5\n",
      "80/80 [==============================] - 235s 3s/step - loss: 0.0141 - accuracy: 0.9941\n",
      "Score for fold 3: loss of 0.34943658113479614; accuracy of 94.9999988079071%\n",
      "------------------------------------------------------------------------\n",
      "Training for fold 4 ...\n",
      "Epoch 1/5\n",
      "80/80 [==============================] - 234s 3s/step - loss: 1.0281 - accuracy: 0.8348\n",
      "Epoch 2/5\n",
      "80/80 [==============================] - 233s 3s/step - loss: 0.0799 - accuracy: 0.9762\n",
      "Epoch 3/5\n",
      "80/80 [==============================] - 230s 3s/step - loss: 0.0288 - accuracy: 0.9918\n",
      "Epoch 4/5\n",
      "80/80 [==============================] - 250s 3s/step - loss: 0.0161 - accuracy: 0.9953\n",
      "Epoch 5/5\n",
      "80/80 [==============================] - 256s 3s/step - loss: 0.0141 - accuracy: 0.9961\n",
      "Score for fold 4: loss of 1.3003177642822266; accuracy of 73.7500011920929%\n",
      "------------------------------------------------------------------------\n",
      "Training for fold 5 ...\n",
      "Epoch 1/5\n",
      "80/80 [==============================] - 250s 3s/step - loss: 0.8853 - accuracy: 0.8555\n",
      "Epoch 2/5\n",
      "80/80 [==============================] - 251s 3s/step - loss: 0.0891 - accuracy: 0.9719\n",
      "Epoch 3/5\n",
      "80/80 [==============================] - 251s 3s/step - loss: 0.0223 - accuracy: 0.9937\n",
      "Epoch 4/5\n",
      "80/80 [==============================] - 252s 3s/step - loss: 0.0081 - accuracy: 0.9973\n",
      "Epoch 5/5\n",
      "80/80 [==============================] - 251s 3s/step - loss: 0.0052 - accuracy: 0.9984\n",
      "Score for fold 5: loss of 0.7573484182357788; accuracy of 92.1875%\n",
      "01:40:15.48\n"
     ]
    }
   ],
   "source": [
    "from tensorflow.keras.losses import sparse_categorical_crossentropy\n",
    "from tensorflow.keras.optimizers import Adam\n",
    "from sklearn.model_selection import KFold\n",
    "import time\n",
    "start = time.time()\n",
    "\n",
    "\n",
    "acc_per_fold=[]\n",
    "loss_per_fold=[]\n",
    "# Define the K-fold Cross Validator\n",
    "kfold = KFold(n_splits=5, shuffle=True)\n",
    "# K-fold Cross Validation model evaluation\n",
    "fold_no = 1\n",
    "\n",
    "for train, test in kfold.split(x_train, y_train):\n",
    "\n",
    "\n",
    "\n",
    "    model = Sequential()\n",
    "    IMAGE_SIZE=(128,128)\n",
    "    model.add(layers.Conv2D(64, (3,3),strides = (1,1), input_shape = (128,128,3),kernel_initializer='glorot_uniform'))\n",
    "    model.add(keras.layers.ELU())\n",
    "    model.add(layers.BatchNormalization(momentum=0.01))\n",
    "\n",
    "    model.add(layers.Conv2D(64, (3,3),strides = (1,1),kernel_initializer='glorot_uniform'))\n",
    "    model.add(keras.layers.ELU())\n",
    "    model.add(layers.BatchNormalization(momentum=0.01))\n",
    "    model.add(layers.MaxPool2D(pool_size=(2, 2), strides= (2,2)))\n",
    "\n",
    "    model.add(layers.Conv2D(128, (3,3),strides = (1,1),kernel_initializer='glorot_uniform'))\n",
    "    model.add(keras.layers.ELU())\n",
    "    model.add(layers.BatchNormalization(momentum=0.01))\n",
    "\n",
    "    model.add(layers.Conv2D(128, (3,3),strides = (1,1),kernel_initializer='glorot_uniform'))\n",
    "    model.add(keras.layers.ELU())\n",
    "    model.add(layers.BatchNormalization(momentum=0.01))\n",
    "    model.add(layers.MaxPool2D(pool_size=(2, 2), strides= (2,2)))\n",
    "\n",
    "    model.add(layers.Conv2D(256, (3,3),strides = (1,1),kernel_initializer='glorot_uniform'))\n",
    "    model.add(keras.layers.ELU())\n",
    "    model.add(layers.BatchNormalization(momentum=0.01))\n",
    "\n",
    "    model.add(layers.Conv2D(256, (3,3),strides = (1,1),kernel_initializer='glorot_uniform'))\n",
    "    model.add(keras.layers.ELU())\n",
    "    model.add(layers.BatchNormalization(momentum=0.01))\n",
    "    model.add(layers.MaxPool2D(pool_size=(2, 2), strides= (2,2)))\n",
    "\n",
    "    model.add(layers.Flatten())\n",
    "    model.add(layers.Dense(2048))\n",
    "    model.add(keras.layers.ELU())\n",
    "    model.add(layers.BatchNormalization(momentum=0.01))\n",
    "    #model.add(layers.Dropout(0.5))\n",
    "\n",
    "    model.add(layers.Dense(8, activation='softmax'))\n",
    "\n",
    "\n",
    "    # Compile the model\n",
    "    model.compile(optimizer='adam',\n",
    "              loss=tf.keras.losses.SparseCategoricalCrossentropy(from_logits=False),\n",
    "              metrics=['accuracy'])\n",
    "\n",
    "\n",
    "    # Generate a print\n",
    "    print('------------------------------------------------------------------------')\n",
    "    print(f'Training for fold {fold_no} ...')\n",
    "\n",
    "    # Fit data to model\n",
    "    #history = model.fit(x_train, y_train, epochs=10,validation_data=(x_test, y_test))\n",
    "    history = model.fit(x_train[train], y_train[train],\n",
    "                batch_size=32,\n",
    "                epochs=5)\n",
    "\n",
    "    # Generate generalization metrics\n",
    "    scores = model.evaluate(x_train[test], y_train[test], verbose=0)\n",
    "    print(f'Score for fold {fold_no}: {model.metrics_names[0]} of {scores[0]}; {model.metrics_names[1]} of {scores[1]*100}%')\n",
    "    acc_per_fold.append(scores[1] * 100)\n",
    "    loss_per_fold.append(scores[0])\n",
    "\n",
    "    # Increase fold number\n",
    "    fold_no = fold_no + 1\n",
    "\n",
    "end = time.time()\n",
    "hours, rem = divmod(end-start, 3600)\n",
    "minutes, seconds = divmod(rem, 60)\n",
    "print(\"{:0>2}:{:0>2}:{:05.2f}\".format(int(hours),int(minutes),seconds))\n"
   ]
  },
  {
   "cell_type": "code",
   "execution_count": 7,
   "metadata": {},
   "outputs": [],
   "source": [
    "\n",
    "predicted=model.predict(x_train)\n",
    "rounded_predictions=np.argmax(predicted,axis=1)\n",
    "\n"
   ]
  },
  {
   "cell_type": "code",
   "execution_count": 8,
   "metadata": {},
   "outputs": [
    {
     "data": {
      "text/plain": [
       "<Figure size 432x288 with 0 Axes>"
      ]
     },
     "metadata": {},
     "output_type": "display_data"
    },
    {
     "data": {
      "image/png": "[encoded data removed]",
      "text/plain": [
       "<Figure size 432x288 with 2 Axes>"
      ]
     },
     "metadata": {
      "needs_background": "light"
     },
     "output_type": "display_data"
    },
    {
     "name": "stdout",
     "output_type": "stream",
     "text": [
      "Accuracy:   0.94375\n"
     ]
    }
   ],
   "source": [
    "#Dibujar la matriz de confusion\n",
    "%matplotlib inline\n",
    "from sklearn.metrics import confusion_matrix\n",
    "from sklearn.metrics import ConfusionMatrixDisplay\n",
    "import itertools\n",
    "import matplotlib.pyplot as plt\n",
    "\n",
    "fig = plt.figure(frameon=False)\n",
    "cm=confusion_matrix(y_train,rounded_predictions)\n",
    "\n",
    "#Displaying Confusion Matrix\n",
    "ClasesArritmias=[\"PVC\",\"PAB\",\"RBB\",\"LBB\",\"APC\",\"VFW\",\"VEB\",\"N\"]\n",
    "disp = ConfusionMatrixDisplay(confusion_matrix=cm, display_labels=ClasesArritmias)\n",
    "disp.plot(cmap=plt.cm.Blues)\n",
    "fig=disp.figure_\n",
    "fig.savefig(\"ConfMatrix3200.png\")\n",
    "#disp.im_.imsave(\"geeks.jpg\")\n",
    "#disp.im_.savefig(\"geeks.jpg\")\n",
    "#plt.imsave(\"ConfMatrix.png\",disp.im_)\n",
    "plt.savefig(\"imagen.png\")\n",
    "plt.show()\n",
    "\n",
    "temp = sum(y_train == rounded_predictions)\n",
    "temp=temp/len(y_train)\n",
    "print(\"Accuracy:  \", temp)"
   ]
  },
  {
   "cell_type": "markdown",
   "metadata": {},
   "source": [
    "Entrenar el modelo"
   ]
  },
  {
   "cell_type": "markdown",
   "metadata": {},
   "source": [
    "Evaluar el modelo"
   ]
  }
 ],
 "metadata": {
  "interpreter": {
   "hash": "37e944cef0ed0bfb77ad27bb219c82d0248dc7f6ab5214dfd7baba058d4590d5"
  },
  "kernelspec": {
   "display_name": "Python 3.9.8 64-bit",
   "language": "python",
   "name": "python3"
  },
  "language_info": {
   "codemirror_mode": {
    "name": "ipython",
    "version": 3
   },
   "file_extension": ".py",
   "mimetype": "text/x-python",
   "name": "python",
   "nbconvert_exporter": "python",
   "pygments_lexer": "ipython3",
   "version": "3.9.8"
  },
  "orig_nbformat": 4
 },
 "nbformat": 4,
 "nbformat_minor": 2
}
